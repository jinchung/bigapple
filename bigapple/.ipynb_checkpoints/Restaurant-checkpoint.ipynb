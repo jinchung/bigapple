{
 "cells": [
  {
   "cell_type": "code",
   "execution_count": 1,
   "metadata": {
    "collapsed": true
   },
   "outputs": [],
   "source": [
    "import pandas as pd\n",
    "import matplotlib.pyplot as plt\n",
    "from IPython.display import clear_output"
   ]
  },
  {
   "cell_type": "code",
   "execution_count": 2,
   "metadata": {
    "collapsed": true
   },
   "outputs": [],
   "source": [
    "restaurant_file_path = '/Users/pauwang/Sandbox/data/restaurant_inspection.csv'"
   ]
  },
  {
   "cell_type": "code",
   "execution_count": 36,
   "metadata": {
    "collapsed": false
   },
   "outputs": [],
   "source": [
    "df = pd.read_csv(restaurant_file_path, low_memory=False)\n",
    "df"
   ]
  },
  {
   "cell_type": "code",
   "execution_count": 37,
   "metadata": {
    "collapsed": false
   },
   "outputs": [],
   "source": [
    "# Test to see if DBAs stand for Restaurant names\n",
    "restaurant_names = df[\"DBA\"]\n",
    "restaurant_names[:1]"
   ]
  },
  {
   "cell_type": "code",
   "execution_count": 35,
   "metadata": {
    "collapsed": false
   },
   "outputs": [],
   "source": [
    "# My favorite restaurant\n",
    "df[(df.DBA == \"CARACAS AREPA BAR\")]"
   ]
  },
  {
   "cell_type": "code",
   "execution_count": 34,
   "metadata": {
    "collapsed": false
   },
   "outputs": [],
   "source": [
    "# Get all types of cuisines\n",
    "df['CUISINE DESCRIPTION'].unique()"
   ]
  },
  {
   "cell_type": "code",
   "execution_count": 33,
   "metadata": {
    "collapsed": false
   },
   "outputs": [],
   "source": [
    "# Get all the Korean restaurants in Manhattan\n",
    "ktown_df = df[(df['CUISINE DESCRIPTION'] == 'Korean') & (df['BORO'] == 'MANHATTAN')]\n",
    "ktown_df"
   ]
  },
  {
   "cell_type": "code",
   "execution_count": 23,
   "metadata": {
    "collapsed": false
   },
   "outputs": [],
   "source": [
    "# Get a count of violations for Korean restaurants\n",
    "ktown_df.groupby(['DBA']).size()"
   ]
  },
  {
   "cell_type": "code",
   "execution_count": 21,
   "metadata": {
    "collapsed": false
   },
   "outputs": [],
   "source": [
    "# See the top korean restaurants you might NOT want to eat at\n",
    "# List of Korean restaurants sorted by number of violations\n",
    "ktown_violations = pd.DataFrame({'count':ktown_df.groupby(['DBA'], as_index=False).size()}).reset_index()\n",
    "ktown_violations.sort_values(by='count', ascending=0)"
   ]
  },
  {
   "cell_type": "code",
   "execution_count": 32,
   "metadata": {
    "collapsed": false
   },
   "outputs": [],
   "source": [
    "# Let's checkout Jin's favorite K-TOWN spot\n",
    "ktown_violations[(ktown_violations.DBA == 'BCD TOFU HOUSE')]"
   ]
  },
  {
   "cell_type": "code",
   "execution_count": 31,
   "metadata": {
    "collapsed": false
   },
   "outputs": [],
   "source": [
    "# Let's get the actual list of violations\n",
    "ktown_df[(ktown_df.DBA == 'BCD TOFU HOUSE')]"
   ]
  },
  {
   "cell_type": "code",
   "execution_count": 51,
   "metadata": {
    "collapsed": false
   },
   "outputs": [],
   "source": [
    "# Jin's favorite work lunch spot\n",
    "# How many violations does it have?\n",
    "df[(df.DBA == 'TACOMBI AT FONDA NOLITA')].groupby(['DBA']).size()"
   ]
  },
  {
   "cell_type": "code",
   "execution_count": 55,
   "metadata": {
    "collapsed": false
   },
   "outputs": [],
   "source": [
    "# actual violations\n",
    "df[(df.DBA == 'TACOMBI AT FONDA NOLITA')]"
   ]
  },
  {
   "cell_type": "code",
   "execution_count": 53,
   "metadata": {
    "collapsed": false
   },
   "outputs": [],
   "source": [
    "# Most bougie restaurant in NYC\n",
    "# Paul's least favorite place to eat (because he's no longer allowed to eat there)\n",
    "df[(df.DBA == 'PER SE')].groupby(['DBA']).size()"
   ]
  },
  {
   "cell_type": "code",
   "execution_count": 54,
   "metadata": {
    "collapsed": false
   },
   "outputs": [],
   "source": [
    "df[(df.DBA == 'PER SE')]"
   ]
  }
 ],
 "metadata": {
  "kernelspec": {
   "display_name": "Python 2",
   "language": "python",
   "name": "python2"
  },
  "language_info": {
   "codemirror_mode": {
    "name": "ipython",
    "version": 2
   },
   "file_extension": ".py",
   "mimetype": "text/x-python",
   "name": "python",
   "nbconvert_exporter": "python",
   "pygments_lexer": "ipython2",
   "version": "2.7.10"
  }
 },
 "nbformat": 4,
 "nbformat_minor": 0
}
