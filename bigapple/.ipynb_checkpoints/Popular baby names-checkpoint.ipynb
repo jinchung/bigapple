{
 "cells": [
  {
   "cell_type": "code",
   "execution_count": 56,
   "metadata": {
    "collapsed": false
   },
   "outputs": [],
   "source": [
    "import pandas as pd\n",
    "import matplotlib.pyplot as plt"
   ]
  },
  {
   "cell_type": "code",
   "execution_count": 21,
   "metadata": {
    "collapsed": false
   },
   "outputs": [],
   "source": [
    "baby_names = '/Users/pauwang/Sandbox/data/pop_baby_names.csv'"
   ]
  },
  {
   "cell_type": "code",
   "execution_count": 22,
   "metadata": {
    "collapsed": false
   },
   "outputs": [],
   "source": [
    "baby_names_df = pd.read_csv(baby_names)\n",
    "baby_names_df"
   ]
  },
  {
   "cell_type": "code",
   "execution_count": 25,
   "metadata": {
    "collapsed": false
   },
   "outputs": [],
   "source": [
    "baby_names_df = baby_names_df.drop_duplicates()\n",
    "baby_names_df"
   ]
  },
  {
   "cell_type": "code",
   "execution_count": 59,
   "metadata": {
    "collapsed": false
   },
   "outputs": [],
   "source": [
    "# How many babies are we looking at?\n",
    "baby_names_df['CNT'].sum()"
   ]
  },
  {
   "cell_type": "code",
   "execution_count": 28,
   "metadata": {
    "collapsed": false
   },
   "outputs": [],
   "source": [
    "# most popular male baby name\n",
    "male_names_df = baby_names_df[(baby_names_df.GNDR == \"MALE\")]\n",
    "male_names_df.sort_values(by='CNT', ascending=0)"
   ]
  },
  {
   "cell_type": "code",
   "execution_count": 32,
   "metadata": {
    "collapsed": true
   },
   "outputs": [],
   "source": [
    "# most popular female baby name\n",
    "female_names_df = baby_names_df[(baby_names_df.GNDR == \"FEMALE\")]\n",
    "female_names_df.sort_values(by='CNT', ascending=0)"
   ]
  },
  {
   "cell_type": "code",
   "execution_count": 34,
   "metadata": {
    "collapsed": false
   },
   "outputs": [],
   "source": [
    "# Give me all possible ethnicities\n",
    "baby_names_df['ETHCTY'].unique()"
   ]
  },
  {
   "cell_type": "code",
   "execution_count": 36,
   "metadata": {
    "collapsed": true
   },
   "outputs": [],
   "source": [
    "# Asian baby names\n",
    "asian_baby_names_df = baby_names_df[(baby_names_df.ETHCTY == \"ASIAN AND PACIFIC ISLANDER\")]\n",
    "asian_baby_names_df.sort_values(by=\"CNT\", ascending=0)"
   ]
  },
  {
   "cell_type": "code",
   "execution_count": 38,
   "metadata": {
    "collapsed": false
   },
   "outputs": [],
   "source": [
    "# Hispanic baby names\n",
    "hispanic_baby_names_df = baby_names_df[(baby_names_df.ETHCTY == \"HISPANIC\")]\n",
    "hispanic_baby_names_df.sort_values(by=\"CNT\", ascending=0)"
   ]
  },
  {
   "cell_type": "code",
   "execution_count": 39,
   "metadata": {
    "collapsed": false
   },
   "outputs": [],
   "source": [
    "# What do you think is the most common hispanic baby name?\n",
    "hispanic_baby_names_df[(hispanic_baby_names_df.NM == \"MARIA\")]"
   ]
  },
  {
   "cell_type": "code",
   "execution_count": 42,
   "metadata": {
    "collapsed": false
   },
   "outputs": [],
   "source": [
    "# Hispanic baby boy names\n",
    "male_hispanic_baby_names_df = baby_names_df[(baby_names_df.ETHCTY == \"HISPANIC\") & (baby_names_df.GNDR == \"MALE\")]\n",
    "male_hispanic_baby_names_df.sort_values(by=\"CNT\", ascending=0)[:1]"
   ]
  },
  {
   "cell_type": "code",
   "execution_count": 45,
   "metadata": {
    "collapsed": false
   },
   "outputs": [],
   "source": [
    "# Hispanic baby girl names\n",
    "female_hispanic_baby_names_df = baby_names_df[(baby_names_df.ETHCTY == \"HISPANIC\") & (baby_names_df.GNDR == \"FEMALE\")]\n",
    "female_hispanic_baby_names_df.sort_values(by=\"CNT\", ascending=0)[:1]"
   ]
  },
  {
   "cell_type": "code",
   "execution_count": 46,
   "metadata": {
    "collapsed": false
   },
   "outputs": [],
   "source": [
    "# Most popular Asian baby girl name\n",
    "female_asian_baby_names_df = baby_names_df[(baby_names_df.ETHCTY == \"ASIAN AND PACIFIC ISLANDER\") & (baby_names_df.GNDR == \"FEMALE\")]\n",
    "female_asian_baby_names_df.sort_values(by=\"CNT\", ascending=0)[:1]"
   ]
  },
  {
   "cell_type": "code",
   "execution_count": 47,
   "metadata": {
    "collapsed": false
   },
   "outputs": [],
   "source": [
    "# Most popular Asian baby boy name\n",
    "male_asian_baby_names_df = baby_names_df[(baby_names_df.ETHCTY == \"ASIAN AND PACIFIC ISLANDER\") & (baby_names_df.GNDR == \"MALE\")]\n",
    "male_asian_baby_names_df.sort_values(by=\"CNT\", ascending=0)[:1]"
   ]
  },
  {
   "cell_type": "code",
   "execution_count": 48,
   "metadata": {
    "collapsed": false
   },
   "outputs": [],
   "source": [
    "male_asian_baby_names_df = baby_names_df[(baby_names_df.ETHCTY == \"ASIAN AND PACIFIC ISLANDER\") & (baby_names_df.RNK == 1)]\n",
    "male_asian_baby_names_df"
   ]
  },
  {
   "cell_type": "code",
   "execution_count": 57,
   "metadata": {
    "collapsed": false
   },
   "outputs": [],
   "source": [
    "# Top baby names by ethnicity\n",
    "top_baby_names_df = baby_names_df[(baby_names_df.RNK == 1)]\n",
    "top_baby_names_df"
   ]
  },
  {
   "cell_type": "code",
   "execution_count": 51,
   "metadata": {
    "collapsed": false
   },
   "outputs": [],
   "source": [
    "baby_names_df.groupby(['GNDR','NM'])"
   ]
  },
  {
   "cell_type": "code",
   "execution_count": 52,
   "metadata": {
    "collapsed": false
   },
   "outputs": [],
   "source": [
    "# What is the most popular female baby name?\n",
    "all_female_baby_names = baby_names_df[(baby_names_df.GNDR == \"FEMALE\")]\n",
    "all_female_baby_names = all_female_baby_names.groupby(['NM']).sum()\n",
    "all_female_baby_names.sort_values(by='CNT', ascending=0)[:1]"
   ]
  },
  {
   "cell_type": "code",
   "execution_count": 53,
   "metadata": {
    "collapsed": false
   },
   "outputs": [],
   "source": [
    "# What is the most popular male baby name?\n",
    "all_male_baby_names = baby_names_df[(baby_names_df.GNDR == \"MALE\")]\n",
    "all_male_baby_names = all_male_baby_names.groupby(['NM']).sum()\n",
    "all_male_baby_names.sort_values(by='CNT', ascending=0)[:1]"
   ]
  },
  {
   "cell_type": "code",
   "execution_count": 54,
   "metadata": {
    "collapsed": false
   },
   "outputs": [],
   "source": []
  }
 ],
 "metadata": {
  "kernelspec": {
   "display_name": "Python 2",
   "language": "python",
   "name": "python2"
  },
  "language_info": {
   "codemirror_mode": {
    "name": "ipython",
    "version": 2
   },
   "file_extension": ".py",
   "mimetype": "text/x-python",
   "name": "python",
   "nbconvert_exporter": "python",
   "pygments_lexer": "ipython2",
   "version": "2.7.10"
  }
 },
 "nbformat": 4,
 "nbformat_minor": 0
}
