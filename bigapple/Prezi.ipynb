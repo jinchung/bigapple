{
 "cells": [
  {
   "cell_type": "code",
   "execution_count": null,
   "metadata": {
    "collapsed": true
   },
   "outputs": [],
   "source": [
    "Intros\n",
    "Who we are\n",
    "What is fun about data, sometimes it is not obvious how to get excited about data\n",
    "\n",
    "What we will be going over today:\n",
    "Data we will be using (where it is sourced from, cleaned up, what is interesting about it)\n",
    "Csv files\n",
    "IPython Notebook intro, what it is\n",
    "Pandas intro\n",
    "\n",
    "Restaurants\n",
    "High Schools\n",
    "311 Data\n",
    "\n",
    "Future project ideas (stats on feminism claims, motorcycle routes, test and training data set for machine learning)\n",
    "\n"
   ]
  }
 ],
 "metadata": {
  "kernelspec": {
   "display_name": "Python 2",
   "language": "python",
   "name": "python2"
  },
  "language_info": {
   "codemirror_mode": {
    "name": "ipython",
    "version": 2
   },
   "file_extension": ".py",
   "mimetype": "text/x-python",
   "name": "python",
   "nbconvert_exporter": "python",
   "pygments_lexer": "ipython2",
   "version": "2.7.5"
  }
 },
 "nbformat": 4,
 "nbformat_minor": 0
}
